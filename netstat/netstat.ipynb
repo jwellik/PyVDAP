{
 "cells": [
  {
   "cell_type": "code",
   "execution_count": 1,
   "metadata": {},
   "outputs": [],
   "source": [
    "import os\n",
    "\n",
    "import configparser\n",
    "\n",
    "import requests\n",
    "import urllib.request\n",
    "from urllib.parse import urlparse, parse_qs, parse_qsl, urlencode\n",
    "\n",
    "import pandas as pd\n",
    "import numpy as np\n",
    "\n",
    "import warnings"
   ]
  },
  {
   "cell_type": "raw",
   "metadata": {},
   "source": [
    "DIRECTORY STRUCTURE\n",
    "\n",
    "./netstat\n",
    "    /configs\n",
    "        Agung.config\n",
    "    /reports\n",
    "        Agung.txt\n",
    "        Agung.html\n",
    "        Agung.png\n",
    "    /tmp                   # temporary location of txt file w data\n",
    "    netstat.py\n",
    "    netstat.sh\n",
    "    plot_netstatus.py\n",
    "\n",
    "USAGE\n",
    "\"Alert mode\" Run NETALERT for a configuration file.\n",
    "This is the best mode for regular updates to send e-mail alerts and check the recent status\n",
    "$ python netalert.py Agung\n",
    "\n",
    "\"History mode\" Run NETALERT for a configuration file with a start and stop time.\n",
    "This over-rides [DEFAULT]['duration'] and instead produces a report over the given time range.\n",
    "E-mail alerts and status updates to the configuration file are *not* produced.\n",
    "Start/Stop dates must be 'YYYY-mm-dd'. 'now' may be used as the stop date.\n",
    "$ python netalert.py Agung 2017-10-01 now\n"
   ]
  },
  {
   "cell_type": "code",
   "execution_count": 2,
   "metadata": {},
   "outputs": [
    {
     "data": {
      "text/plain": [
       "['/Users/jjw2/Documents/pywellik/proj/netalert/configs/Agung.config']"
      ]
     },
     "execution_count": 2,
     "metadata": {},
     "output_type": "execute_result"
    }
   ],
   "source": [
    "    ### read config file ###\n",
    "config_name = 'Agung' # first input argument\n",
    "\n",
    "config_pathname = '/configs/{}.config'.format(config_name)\n",
    "config = configparser.ConfigParser(delimiters=('='))\n",
    "config.read(os.getcwd() + config_pathname)"
   ]
  },
  {
   "cell_type": "markdown",
   "metadata": {},
   "source": [
    "### Extract Config Names"
   ]
  },
  {
   "cell_type": "code",
   "execution_count": 3,
   "metadata": {},
   "outputs": [
    {
     "name": "stdout",
     "output_type": "stream",
     "text": [
      "Agung @ vdap.org:16024\n"
     ]
    }
   ],
   "source": [
    "    ### read network and server information ###\n",
    "name = config['DEFAULT']['name']\n",
    "server = config['DEFAULT']['server']\n",
    "port = config['DEFAULT']['port']\n",
    "duration = config['DEFAULT']['duration']\n",
    "outdir = config['DEFAULT']['outdir']\n",
    "print('{} @ {}:{}'.format(name,server,port))\n"
   ]
  },
  {
   "cell_type": "code",
   "execution_count": 4,
   "metadata": {},
   "outputs": [
    {
     "name": "stdout",
     "output_type": "stream",
     "text": [
      "90.0\n",
      "5\n"
     ]
    }
   ],
   "source": [
    "    ### read threshold information ###\n",
    "sta_acceptability = config['thresholds']['sta_acceptability']\n",
    "min_sta = config['thresholds']['min_sta']\n",
    "mgd = config['thresholds']['min_gap_dur']\n",
    "\n",
    "prev_network_status = config['status']['current_status']\n",
    "print(sta_acceptability)\n",
    "print(min_sta)"
   ]
  },
  {
   "cell_type": "markdown",
   "metadata": {},
   "source": [
    "### Loop through stations and get network outages"
   ]
  },
  {
   "cell_type": "code",
   "execution_count": 5,
   "metadata": {},
   "outputs": [
    {
     "name": "stdout",
     "output_type": "stream",
     "text": [
      "Requesting data: http://vdap.org:16024/gaps?code=TMKS_EHZ_VG_00&t1=-24&mgd=5.0&wc=1\n",
      "['TMKS_EHZ_VG_00', '-8.2', '115.7', '1245', 'sta_acceptability:50.0']\n",
      "STATUS = GOOD\n",
      "Gaps      : 7\n",
      "Gap dur   : 1904 sec\n",
      "Data %    : 97.8%\n",
      " \n",
      "Requesting data: http://vdap.org:16024/gaps?code=ABNG_SHZ_VG_00&t1=-24&mgd=5.0&wc=1\n",
      "['ABNG_SHZ_VG_00', '-8.1', '115.6', '800']\n",
      "STATUS = GOOD\n",
      "Gaps      : 11\n",
      "Gap dur   : 1320 sec\n",
      "Data %    : 98.5%\n",
      " \n",
      "Requesting data: http://vdap.org:16024/gaps?code=PSAG_EHZ_VG_00&t1=-24&mgd=5.0&wc=1\n",
      "['PSAG_EHZ_VG_00', '-8.1', '115.6', '800']\n",
      "STATUS = GOOD\n",
      "Gaps      : 7\n",
      "Gap dur   : 1006 sec\n",
      "Data %    : 98.8%\n",
      " \n",
      "Requesting data: http://vdap.org:16024/gaps?code=CEGI_BHZ_VG_00&t1=-24&mgd=5.0&wc=1\n",
      "['CEGI_BHZ_VG_00', '-8.1', '115.6', '800']\n",
      "STATUS = GOOD\n",
      "Gaps      : 11\n",
      "Gap dur   : 1309 sec\n",
      "Data %    : 98.5%\n",
      " \n",
      "Requesting data: http://vdap.org:16024/gaps?code=DUKU_BHZ_VG_00&t1=-24&mgd=5.0&wc=1\n",
      "['DUKU_BHZ_VG_00', '-8.1', '115.6', '800']\n",
      "STATUS = BAD\n",
      "Gaps      : 9\n",
      "Gap dur   : 26733 sec\n",
      "Data %    : 69.1%\n",
      " \n",
      "Requesting data: http://vdap.org:16024/gaps?code=YHKR_BHZ_VG_00&t1=-24&mgd=5.0&wc=1\n",
      "['YHKR_BHZ_VG_00', '-8.1', '115.6', '800']\n",
      "STATUS = BAD\n",
      "Gaps      : 7\n",
      "Gap dur   : 10405 sec\n",
      "Data %    : 88.0%\n",
      " \n",
      "Requesting data: http://vdap.org:16024/gaps?code=GTOH_EHZ_VG_00&t1=-24&mgd=5.0&wc=1\n",
      "['GTOH_EHZ_VG_00', '0', '0', '0']\n",
      "STATUS = GOOD\n",
      "Gaps      : 7\n",
      "Gap dur   : 1008 sec\n",
      "Data %    : 98.8%\n",
      " \n",
      "Requesting data: http://vdap.org:16024/gaps?code=REND_BHZ_VG_00&t1=-24&mgd=5.0&wc=1\n",
      "['REND_BHZ_VG_00', '0', '0', '0']\n",
      "STATUS = GOOD\n",
      "Gaps      : 10\n",
      "Gap dur   : 1211 sec\n",
      "Data %    : 98.6%\n",
      " \n",
      "Requesting data: http://vdap.org:16024/gaps?code=MAGI_BHZ_VG_00&t1=-24&mgd=5.0&wc=1\n",
      "['MAGI_BHZ_VG_00', '0', '0', '0']\n",
      "STATUS = BAD\n",
      "Gaps      : 1\n",
      "Gap dur   : 86400 sec\n",
      "Data %    :  0.0%\n",
      " \n",
      "Requesting data: http://vdap.org:16024/gaps?code=JAGI_SHZ_GE_--&t1=-24&mgd=5.0&wc=1\n",
      "['JAGI_SHZ_GE_--', '0', '0', '0', 'sta_acceptability:0.0']\n",
      "STATUS = GOOD\n",
      "Gaps      : 1\n",
      "Gap dur   : 86400 sec\n",
      "Data %    :  0.0%\n",
      " \n",
      "---------------------------------------------\n",
      "Agung network status: GOOD (7 out of 5/10)\n",
      "---------------------------------------------\n",
      "TMKS_EHZ_VG_00 : 97.8% (GOOD)\n",
      "ABNG_SHZ_VG_00 : 98.5% (GOOD)\n",
      "PSAG_EHZ_VG_00 : 98.8% (GOOD)\n",
      "CEGI_BHZ_VG_00 : 98.5% (GOOD)\n",
      "duku_bhz_vg_00 : 69.1% ( BAD)\n",
      "yhkr_bhz_vg_00 : 88.0% ( BAD)\n",
      "GTOH_EHZ_VG_00 : 98.8% (GOOD)\n",
      "REND_BHZ_VG_00 : 98.6% (GOOD)\n",
      "magi_bhz_vg_00 :  0.0% ( BAD)\n",
      "JAGI_SHZ_GE_-- :  0.0% (GOOD)\n"
     ]
    },
    {
     "data": {
      "text/plain": [
       "[None, None, None, None, None, None, None, None, None, None]"
      ]
     },
     "execution_count": 5,
     "metadata": {},
     "output_type": "execute_result"
    }
   ],
   "source": [
    "stations = config['stations']['scnl'].splitlines()\n",
    "stations\n",
    "\n",
    "network_status = []\n",
    "network_status_msg = []\n",
    "for line in stations:\n",
    "    if line is not '':\n",
    "        line = line.replace(' ','').split(',')\n",
    "        scnl = line[0]\n",
    "        \n",
    "            # initialize local version of thresholds for each indiviudal station\n",
    "        sta_acceptability = config['thresholds']['sta_acceptability']\n",
    "        min_sta = config['thresholds']['min_sta']\n",
    "        mgd = config['thresholds']['min_gap_dur']\n",
    "       \n",
    "            # process station-specific parameters\n",
    "        for e in line:\n",
    "            if 'sta_acceptability' in e:\n",
    "                elem = e.split(':')\n",
    "                sta_acceptability = elem[1]\n",
    "        \n",
    "            ### get gap data from Winston ###\n",
    "            # geturl example: 'http://vdap.org:16024/gaps?code=TMKS_EHZ_VG_00&t1=-24&wc=1'\n",
    "        geturl = 'http://{}:{}/gaps?code={}&t1={}&mgd={}&wc=1'.format(server,port,scnl,duration,mgd)\n",
    "        tmpdata = os.getcwd() + '/tmp/{}.txt'.format(scnl)\n",
    "        print('Requesting data: {}'.format(geturl))\n",
    "        try:\n",
    "            urllib.request.urlretrieve(geturl, tmpdata)\n",
    "        except:\n",
    "            warnings.warn('Failed to retrieve data.')\n",
    "            tmpdata = os.getcwd() + '/tmp/TMKS_EHZ_VG_00_test.txt'\n",
    "            ### / get gap data from Winston ###\n",
    "            \n",
    "            # process station gap data            \n",
    "        df = pd.read_csv(tmpdata,\n",
    "                         comment='#', header=None, delim_whitespace=True,\n",
    "                         names=['GapStart', 'GapEnd', 'Duration'])\n",
    "        #os.remove(tmpdata)\n",
    "        ngaps = df.shape[0]\n",
    "        total_gap_duration = df['Duration'].sum()\n",
    "        total_dur = 86400\n",
    "        gap_percent = total_gap_duration / total_dur * 100\n",
    "        data_percent = 100 - gap_percent\n",
    "        sta_status_str = 'GOOD' if data_percent >= float(sta_acceptability) else 'BAD'\n",
    "        sta_status = 1 if sta_status_str is 'GOOD' else 0\n",
    "        network_status.append(sta_status)\n",
    "        network_status_msg.append('{} : {:4.1f}% ({:>4})'.format(\n",
    "            scnl.upper() if sta_status else scnl.lower(),\n",
    "            data_percent,\n",
    "            sta_status_str))\n",
    "        \n",
    "            # print station message\n",
    "        print(line)\n",
    "        print('STATUS = {}'.format(sta_status_str))\n",
    "        print('Gaps      : {}'.format(ngaps))\n",
    "        print('Gap dur   : {:d} sec'.format(int(total_gap_duration)))\n",
    "        print('Data %    : {:4.1f}%'.format(data_percent))\n",
    "        print(' ')\n",
    "\n",
    "    # process network results\n",
    "good_sta = int(np.array(network_status).sum())\n",
    "total_sta = len(stations) - 1 # makes up for stations[0] being blank\n",
    "network_status_str = 'GOOD' if good_sta >= int(min_sta) else 'BAD'\n",
    "\n",
    "    # print network results\n",
    "print('-'*45)\n",
    "print('{} network status: {} ({} out of {}/{})'.format(name, network_status_str, good_sta, min_sta, total_sta))\n",
    "print('-'*45)\n",
    "[print(m) for m in network_status_msg]"
   ]
  },
  {
   "cell_type": "markdown",
   "metadata": {},
   "source": [
    "## Messaging"
   ]
  },
  {
   "cell_type": "code",
   "execution_count": 6,
   "metadata": {},
   "outputs": [
    {
     "name": "stdout",
     "output_type": "stream",
     "text": [
      "Network health restored!\n",
      "Sending email\n",
      "Jay (jwellik@usgs.gov)\n",
      "Jay Cell (+12143549990@mms.att.net)\n",
      "Jeremy (jpesicek@usgs.gov)\n",
      "Steph (sprejean@usgs.gov)\n"
     ]
    }
   ],
   "source": [
    "def send_email():\n",
    "    print('Sending email')\n",
    "    distro = config['distribution']['names'].splitlines()\n",
    "    for line in distro:\n",
    "        if line is not '':\n",
    "            name = line.split(',')\n",
    "            print('{} ({})'.format(name[0].strip(), name[1].strip()))\n",
    "\n",
    "def craft_message(new_status, prev_status, cfg=None, syscfg=None):\n",
    "    if new_status == 'BAD' and prev_status == 'GOOD':\n",
    "        print('Network down')\n",
    "        send_email()\n",
    "    elif new_status == 'BAD' and prev_status == 'BAD':\n",
    "        print('Status still bad. Message not sent.')\n",
    "    elif new_status == 'GOOD' and prev_network_status == 'BAD':\n",
    "        print('Network health restored!')\n",
    "        send_email()\n",
    "    elif new_status == 'GOOD' and prev_status == 'GOOD':\n",
    "        print('Network still healthy. Message not sent')\n",
    "        \n",
    "craft_message(network_status_str, prev_network_status)"
   ]
  },
  {
   "cell_type": "markdown",
   "metadata": {},
   "source": [
    "### Update Config File and Write"
   ]
  },
  {
   "cell_type": "code",
   "execution_count": 7,
   "metadata": {},
   "outputs": [
    {
     "name": "stdout",
     "output_type": "stream",
     "text": [
      "Updating config file with new status.\n",
      "Config file updated.\n"
     ]
    }
   ],
   "source": [
    "print('Updating config file with new status.')\n",
    "config['status']['current_status'] = network_status_str\n",
    "with open(os.getcwd() + config_pathname, 'w') as configfile:\n",
    "   config.write(configfile)\n",
    "print('Config file updated.')"
   ]
  },
  {
   "cell_type": "code",
   "execution_count": null,
   "metadata": {},
   "outputs": [],
   "source": []
  },
  {
   "cell_type": "code",
   "execution_count": null,
   "metadata": {},
   "outputs": [],
   "source": []
  },
  {
   "cell_type": "code",
   "execution_count": null,
   "metadata": {},
   "outputs": [],
   "source": [
    "\n"
   ]
  },
  {
   "cell_type": "code",
   "execution_count": null,
   "metadata": {},
   "outputs": [],
   "source": []
  },
  {
   "cell_type": "code",
   "execution_count": null,
   "metadata": {},
   "outputs": [],
   "source": []
  },
  {
   "cell_type": "code",
   "execution_count": null,
   "metadata": {},
   "outputs": [],
   "source": []
  }
 ],
 "metadata": {
  "kernelspec": {
   "display_name": "Python 3",
   "language": "python",
   "name": "python3"
  },
  "language_info": {
   "codemirror_mode": {
    "name": "ipython",
    "version": 3
   },
   "file_extension": ".py",
   "mimetype": "text/x-python",
   "name": "python",
   "nbconvert_exporter": "python",
   "pygments_lexer": "ipython3",
   "version": "3.6.4"
  }
 },
 "nbformat": 4,
 "nbformat_minor": 2
}
